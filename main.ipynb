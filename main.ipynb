{
 "cells": [
  {
   "cell_type": "markdown",
   "metadata": {},
   "source": [
    "Actividad GitFlow\n",
    "Alumno: Tomás Lagos\n",
    "nro de alumno: 18637922\n",
    "fecha: 28/03/2022"
   ]
  },
  {
   "cell_type": "code",
   "execution_count": 1,
   "metadata": {},
   "outputs": [],
   "source": [
    "#imports\n",
    "\n",
    "from functions.retweeted import retweeted\n",
    "from functions.users import users\n",
    "from functions.days import days\n",
    "from functions.hashtags import hashtags"
   ]
  },
  {
   "cell_type": "code",
   "execution_count": 2,
   "metadata": {},
   "outputs": [
    {
     "data": {
      "text/plain": [
       "Index(['url', 'date', 'content', 'renderedContent', 'id', 'outlinks',\n",
       "       'tcooutlinks', 'replyCount', 'retweetCount', 'likeCount', 'quoteCount',\n",
       "       'conversationId', 'lang', 'source', 'sourceUrl', 'sourceLabel', 'media',\n",
       "       'retweetedTweet', 'quotedTweet', 'mentionedUsers', 'username',\n",
       "       'displayname', 'id', 'description', 'rawDescription', 'descriptionUrls',\n",
       "       'verified', 'created', 'followersCount', 'friendsCount',\n",
       "       'statusesCount', 'favouritesCount', 'listedCount', 'mediaCount',\n",
       "       'location', 'protected', 'linkUrl', 'linkTcourl', 'profileImageUrl',\n",
       "       'profileBannerUrl', 'url'],\n",
       "      dtype='object')"
      ]
     },
     "execution_count": 2,
     "metadata": {},
     "output_type": "execute_result"
    }
   ],
   "source": [
    "import pandas as pd\n",
    "\n",
    "df = pd.read_json('farmers-protest-tweets-2021-2-4.json', lines=True) #Separate users into several columns\n",
    "\n",
    "df = pd.concat([df.drop(['user'], axis=1), df['user'].apply(pd.Series)], axis=1) #Separate users into several columns\n",
    "\n",
    "df.keys()\n"
   ]
  },
  {
   "cell_type": "markdown",
   "metadata": {},
   "source": [
    "1. Los top 10 tweets más retweeted."
   ]
  },
  {
   "cell_type": "code",
   "execution_count": 3,
   "metadata": {},
   "outputs": [
    {
     "name": "stdout",
     "output_type": "stream",
     "text": [
      "               username  retweetCount\n",
      "111329  RakeshTikaitBKU          7723\n",
      "7645       dhruv_rathee          6164\n",
      "89780         rupikaur_          4673\n",
      "88911         amaanbali          3742\n",
      "111556      jedijasmin_          3332\n",
      "64492         rupikaur_          3230\n",
      "108072      RaviSinghKA          3182\n",
      "60721      sherryontopp          3057\n",
      "29510      sherryontopp          3040\n",
      "24160      sherryontopp          2622\n"
     ]
    }
   ],
   "source": [
    "top = retweeted(df)\n",
    "print(top.head(10)[['username', 'retweetCount']])"
   ]
  },
  {
   "cell_type": "markdown",
   "metadata": {},
   "source": [
    "2. Los top 10 usuarios en función a la cantidad de tweets que emitieron."
   ]
  },
  {
   "cell_type": "code",
   "execution_count": 4,
   "metadata": {},
   "outputs": [
    {
     "name": "stdout",
     "output_type": "stream",
     "text": [
      "              username  count\n",
      "20679           jot__b   1019\n",
      "23788    rebelpacifist    850\n",
      "8589   MaanDee08215437    830\n",
      "5010       Gurpreetd86    636\n",
      "4852         GurmVicky    597\n",
      "24711  shells_n_petals    576\n",
      "23238   preetysaini321    573\n",
      "20093         ish_kayy    515\n",
      "7619   KaurDosanjh1979    512\n",
      "3580   DigitalKisanBot    490\n"
     ]
    }
   ],
   "source": [
    "top = users(df)\n",
    "print(top.head(10))"
   ]
  },
  {
   "cell_type": "markdown",
   "metadata": {},
   "source": [
    "3. Los top 10 días donde hay más tweets."
   ]
  },
  {
   "cell_type": "code",
   "execution_count": 5,
   "metadata": {},
   "outputs": [],
   "source": [
    "#top = days(df)\n",
    "#print(top.head(10)[['id', 'user']])"
   ]
  },
  {
   "cell_type": "markdown",
   "metadata": {},
   "source": [
    "4. Top 10 hashtags más usados."
   ]
  },
  {
   "cell_type": "code",
   "execution_count": 8,
   "metadata": {},
   "outputs": [
    {
     "name": "stdout",
     "output_type": "stream",
     "text": [
      "                     hashtag   count\n",
      "1             FarmersProtest  112630\n",
      "30    ReleaseDetainedFarmers    5987\n",
      "102         FarmersMakeIndia    5263\n",
      "4             farmersprotest    5105\n",
      "52   MahapanchayatRevolution    4735\n",
      "100       RepealOnlyWayAhead    4511\n",
      "544       IndiaBeingSilenced    4332\n",
      "98           FarmersProtests    3661\n",
      "72       Pagdi_Sambhal_Jatta    3542\n",
      "119                DishaRavi    3017\n"
     ]
    }
   ],
   "source": [
    "top = hashtags(df)\n",
    "print(top.head(10)[['hashtag', 'count']])"
   ]
  }
 ],
 "metadata": {
  "interpreter": {
   "hash": "c5721dc8336f8ff69d3a2ba1db149af628dc09d7ab85d92c465b3615d8518e80"
  },
  "kernelspec": {
   "display_name": "Python 3.7.0 64-bit",
   "language": "python",
   "name": "python3"
  },
  "language_info": {
   "codemirror_mode": {
    "name": "ipython",
    "version": 3
   },
   "file_extension": ".py",
   "mimetype": "text/x-python",
   "name": "python",
   "nbconvert_exporter": "python",
   "pygments_lexer": "ipython3",
   "version": "3.7.0"
  },
  "orig_nbformat": 4
 },
 "nbformat": 4,
 "nbformat_minor": 2
}
